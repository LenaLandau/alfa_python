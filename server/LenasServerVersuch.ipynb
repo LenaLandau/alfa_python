{
 "cells": [
  {
   "cell_type": "code",
   "execution_count": 1,
   "id": "62be034a-ad91-4e60-b492-62fec5283747",
   "metadata": {},
   "outputs": [],
   "source": [
    "#!/usr/local/bin/python\n",
    "# SERVER = Bedienen von Anfragen\n",
    "import flask    # debug server, use tornado for live, später auch Django\n"
   ]
  },
  {
   "cell_type": "code",
   "execution_count": 2,
   "id": "181999f8-d64d-4ef4-8f4d-ea31d402e564",
   "metadata": {},
   "outputs": [
    {
     "name": "stdout",
     "output_type": "stream",
     "text": [
      "Running on http://0.0.0.0:8080\n",
      " * Serving Flask app '__main__'\n",
      " * Debug mode: on\n"
     ]
    },
    {
     "name": "stderr",
     "output_type": "stream",
     "text": [
      "WARNING: This is a development server. Do not use it in a production deployment. Use a production WSGI server instead.\n",
      " * Running on all addresses (0.0.0.0)\n",
      " * Running on http://127.0.0.1:8080\n",
      " * Running on http://192.168.0.107:8080\n",
      "Press CTRL+C to quit\n",
      " * Restarting with stat\n"
     ]
    },
    {
     "ename": "SystemExit",
     "evalue": "1",
     "output_type": "error",
     "traceback": [
      "An exception has occurred, use %tb to see the full traceback.\n",
      "\u001b[1;31mSystemExit\u001b[0m\u001b[1;31m:\u001b[0m 1\n"
     ]
    },
    {
     "name": "stderr",
     "output_type": "stream",
     "text": [
      "C:\\Users\\user\\.conda\\envs\\update2024\\Lib\\site-packages\\IPython\\core\\interactiveshell.py:3561: UserWarning: To exit: use 'exit', 'quit', or Ctrl-D.\n",
      "  warn(\"To exit: use 'exit', 'quit', or Ctrl-D.\", stacklevel=1)\n"
     ]
    }
   ],
   "source": [
    "app = flask.Flask(__name__)\n",
    "\n",
    "# Idee: jeder schreibt seine eigene Funktion die man aufrufen kann\n",
    "# dann git commit und push\n",
    "# eventuell auf eigenem REchner testen (Programm starten und im Browser aufrufen)\n",
    "# ich übernehme dann die Funktionen auf meinem Server\n",
    "@app.route('/hallo')\n",
    "def hallo():\n",
    "\treturn \"hallo\"+str(3*3)\n",
    "\n",
    "@app.route('/Lena')\n",
    "def n_guude():\n",
    "\treturn \"n Guude\"\n",
    "\n",
    "if __name__ == '__main__':\n",
    "\tprint(\"Running on http://0.0.0.0:8080\")\n",
    "\tapp.run(debug=True, host='0.0.0.0', port=8080) # 80"
   ]
  }
 ],
 "metadata": {
  "kernelspec": {
   "display_name": "Python 3 (ipykernel)",
   "language": "python",
   "name": "python3"
  },
  "language_info": {
   "codemirror_mode": {
    "name": "ipython",
    "version": 3
   },
   "file_extension": ".py",
   "mimetype": "text/x-python",
   "name": "python",
   "nbconvert_exporter": "python",
   "pygments_lexer": "ipython3",
   "version": "3.12.3"
  }
 },
 "nbformat": 4,
 "nbformat_minor": 5
}
