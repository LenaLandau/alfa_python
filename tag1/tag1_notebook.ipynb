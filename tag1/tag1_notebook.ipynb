{
 "cells": [
  {
   "cell_type": "code",
   "id": "bb87889a6031ed26",
   "metadata": {
    "ExecuteTime": {
     "end_time": "2024-04-30T11:47:13.953849Z",
     "start_time": "2024-04-30T11:47:13.946959Z"
    }
   },
   "source": [
    "2*3"
   ],
   "outputs": [
    {
     "data": {
      "text/plain": [
       "6"
      ]
     },
     "execution_count": 1,
     "metadata": {},
     "output_type": "execute_result"
    }
   ],
   "execution_count": 1
  },
  {
   "cell_type": "markdown",
   "id": "3151d7d93b69070e",
   "metadata": {},
   "source": [
    "Man kann in Notebooks auch Markdown-Zellen einfügen, \n",
    "um Texte zu schreiben, Ergebnisse zu erklären oder auch Bilder einzufügen."
   ]
  },
  {
   "cell_type": "markdown",
   "id": "d7fd01ac008f85f8",
   "metadata": {},
   "source": ""
  },
  {
   "cell_type": "code",
   "id": "a49bdc62eacbe6aa",
   "metadata": {
    "ExecuteTime": {
     "end_time": "2024-04-30T12:06:51.382149Z",
     "start_time": "2024-04-30T11:47:13.955032Z"
    }
   },
   "source": [
    "import turtle\n",
    "\n",
    "# Create a turtle object\n",
    "t = turtle.Turtle()\n",
    "\n",
    "# Set the initial position and angle\n",
    "x = 0\n",
    "y = 0\n",
    "angle = 0\n",
    "\n",
    "# Set the length and angle increment for each step\n",
    "length = 10\n",
    "angle_increment = 10\n",
    "\n",
    "# Draw the spiral\n",
    "for i in range(100):\n",
    "    t.forward(length)\n",
    "    t.right(angle)\n",
    "    angle += angle_increment\n",
    "\n",
    "# Hide the turtle\n",
    "t.hideturtle()\n",
    "\n",
    "# Keep the window open\n",
    "turtle.done()\n"
   ],
   "outputs": [
    {
     "name": "stderr",
     "output_type": "stream",
     "text": [
      "2024-04-30 13:47:14.122 Python[52471:4007347] ApplePersistenceIgnoreState: Existing state will not be touched. New state will be written to /var/folders/x3/8vyvmvd936j2pzv4dc9yw68c0000gn/T/com.apple.python3.savedState\n",
      "2024-04-30 13:47:29.248 Python[52471:4007347] WARNING: Secure coding is automatically enabled for restorable state! However, not on all supported macOS versions of this application. Opt-in to secure coding explicitly by implementing NSApplicationDelegate.applicationSupportsSecureRestorableState:.\n"
     ]
    },
    {
     "ename": "TclError",
     "evalue": "can't invoke \"bind\" command:  application has been destroyed",
     "output_type": "error",
     "traceback": [
      "\u001B[0;31m---------------------------------------------------------------------------\u001B[0m",
      "\u001B[0;31mTclError\u001B[0m                                  Traceback (most recent call last)",
      "Cell \u001B[0;32mIn[2], line 4\u001B[0m\n\u001B[1;32m      1\u001B[0m \u001B[38;5;28;01mimport\u001B[39;00m \u001B[38;5;21;01mturtle\u001B[39;00m\n\u001B[1;32m      3\u001B[0m \u001B[38;5;66;03m# Create a turtle object\u001B[39;00m\n\u001B[0;32m----> 4\u001B[0m t \u001B[38;5;241m=\u001B[39m \u001B[43mturtle\u001B[49m\u001B[38;5;241;43m.\u001B[39;49m\u001B[43mTurtle\u001B[49m\u001B[43m(\u001B[49m\u001B[43m)\u001B[49m\n\u001B[1;32m      6\u001B[0m \u001B[38;5;66;03m# Set the initial position and angle\u001B[39;00m\n\u001B[1;32m      7\u001B[0m x \u001B[38;5;241m=\u001B[39m \u001B[38;5;241m0\u001B[39m\n",
      "File \u001B[0;32m/Library/Developer/CommandLineTools/Library/Frameworks/Python3.framework/Versions/3.9/lib/python3.9/turtle.py:3813\u001B[0m, in \u001B[0;36mTurtle.__init__\u001B[0;34m(self, shape, undobuffersize, visible)\u001B[0m\n\u001B[1;32m   3808\u001B[0m \u001B[38;5;28;01mdef\u001B[39;00m \u001B[38;5;21m__init__\u001B[39m(\u001B[38;5;28mself\u001B[39m,\n\u001B[1;32m   3809\u001B[0m              shape\u001B[38;5;241m=\u001B[39m_CFG[\u001B[38;5;124m\"\u001B[39m\u001B[38;5;124mshape\u001B[39m\u001B[38;5;124m\"\u001B[39m],\n\u001B[1;32m   3810\u001B[0m              undobuffersize\u001B[38;5;241m=\u001B[39m_CFG[\u001B[38;5;124m\"\u001B[39m\u001B[38;5;124mundobuffersize\u001B[39m\u001B[38;5;124m\"\u001B[39m],\n\u001B[1;32m   3811\u001B[0m              visible\u001B[38;5;241m=\u001B[39m_CFG[\u001B[38;5;124m\"\u001B[39m\u001B[38;5;124mvisible\u001B[39m\u001B[38;5;124m\"\u001B[39m]):\n\u001B[1;32m   3812\u001B[0m     \u001B[38;5;28;01mif\u001B[39;00m Turtle\u001B[38;5;241m.\u001B[39m_screen \u001B[38;5;129;01mis\u001B[39;00m \u001B[38;5;28;01mNone\u001B[39;00m:\n\u001B[0;32m-> 3813\u001B[0m         Turtle\u001B[38;5;241m.\u001B[39m_screen \u001B[38;5;241m=\u001B[39m \u001B[43mScreen\u001B[49m\u001B[43m(\u001B[49m\u001B[43m)\u001B[49m\n\u001B[1;32m   3814\u001B[0m     RawTurtle\u001B[38;5;241m.\u001B[39m\u001B[38;5;21m__init__\u001B[39m(\u001B[38;5;28mself\u001B[39m, Turtle\u001B[38;5;241m.\u001B[39m_screen,\n\u001B[1;32m   3815\u001B[0m                        shape\u001B[38;5;241m=\u001B[39mshape,\n\u001B[1;32m   3816\u001B[0m                        undobuffersize\u001B[38;5;241m=\u001B[39mundobuffersize,\n\u001B[1;32m   3817\u001B[0m                        visible\u001B[38;5;241m=\u001B[39mvisible)\n",
      "File \u001B[0;32m/Library/Developer/CommandLineTools/Library/Frameworks/Python3.framework/Versions/3.9/lib/python3.9/turtle.py:3663\u001B[0m, in \u001B[0;36mScreen\u001B[0;34m()\u001B[0m\n\u001B[1;32m   3659\u001B[0m \u001B[38;5;250m\u001B[39m\u001B[38;5;124;03m\"\"\"Return the singleton screen object.\u001B[39;00m\n\u001B[1;32m   3660\u001B[0m \u001B[38;5;124;03mIf none exists at the moment, create a new one and return it,\u001B[39;00m\n\u001B[1;32m   3661\u001B[0m \u001B[38;5;124;03melse return the existing one.\"\"\"\u001B[39;00m\n\u001B[1;32m   3662\u001B[0m \u001B[38;5;28;01mif\u001B[39;00m Turtle\u001B[38;5;241m.\u001B[39m_screen \u001B[38;5;129;01mis\u001B[39;00m \u001B[38;5;28;01mNone\u001B[39;00m:\n\u001B[0;32m-> 3663\u001B[0m     Turtle\u001B[38;5;241m.\u001B[39m_screen \u001B[38;5;241m=\u001B[39m \u001B[43m_Screen\u001B[49m\u001B[43m(\u001B[49m\u001B[43m)\u001B[49m\n\u001B[1;32m   3664\u001B[0m \u001B[38;5;28;01mreturn\u001B[39;00m Turtle\u001B[38;5;241m.\u001B[39m_screen\n",
      "File \u001B[0;32m/Library/Developer/CommandLineTools/Library/Frameworks/Python3.framework/Versions/3.9/lib/python3.9/turtle.py:3691\u001B[0m, in \u001B[0;36m_Screen.__init__\u001B[0;34m(self)\u001B[0m\n\u001B[1;32m   3689\u001B[0m \u001B[38;5;28mself\u001B[39m\u001B[38;5;241m.\u001B[39m_root\u001B[38;5;241m.\u001B[39msetupcanvas(width, height, canvwidth, canvheight)\n\u001B[1;32m   3690\u001B[0m _Screen\u001B[38;5;241m.\u001B[39m_canvas \u001B[38;5;241m=\u001B[39m \u001B[38;5;28mself\u001B[39m\u001B[38;5;241m.\u001B[39m_root\u001B[38;5;241m.\u001B[39m_getcanvas()\n\u001B[0;32m-> 3691\u001B[0m \u001B[43mTurtleScreen\u001B[49m\u001B[38;5;241;43m.\u001B[39;49m\u001B[38;5;21;43m__init__\u001B[39;49m\u001B[43m(\u001B[49m\u001B[38;5;28;43mself\u001B[39;49m\u001B[43m,\u001B[49m\u001B[43m \u001B[49m\u001B[43m_Screen\u001B[49m\u001B[38;5;241;43m.\u001B[39;49m\u001B[43m_canvas\u001B[49m\u001B[43m)\u001B[49m\n\u001B[1;32m   3692\u001B[0m \u001B[38;5;28mself\u001B[39m\u001B[38;5;241m.\u001B[39msetup(width, height, leftright, topbottom)\n",
      "File \u001B[0;32m/Library/Developer/CommandLineTools/Library/Frameworks/Python3.framework/Versions/3.9/lib/python3.9/turtle.py:996\u001B[0m, in \u001B[0;36mTurtleScreen.__init__\u001B[0;34m(self, cv, mode, colormode, delay)\u001B[0m\n\u001B[1;32m    994\u001B[0m \u001B[38;5;28mself\u001B[39m\u001B[38;5;241m.\u001B[39m_colormode \u001B[38;5;241m=\u001B[39m _CFG[\u001B[38;5;124m\"\u001B[39m\u001B[38;5;124mcolormode\u001B[39m\u001B[38;5;124m\"\u001B[39m]\n\u001B[1;32m    995\u001B[0m \u001B[38;5;28mself\u001B[39m\u001B[38;5;241m.\u001B[39m_keys \u001B[38;5;241m=\u001B[39m []\n\u001B[0;32m--> 996\u001B[0m \u001B[38;5;28;43mself\u001B[39;49m\u001B[38;5;241;43m.\u001B[39;49m\u001B[43mclear\u001B[49m\u001B[43m(\u001B[49m\u001B[43m)\u001B[49m\n\u001B[1;32m    997\u001B[0m \u001B[38;5;28;01mif\u001B[39;00m sys\u001B[38;5;241m.\u001B[39mplatform \u001B[38;5;241m==\u001B[39m \u001B[38;5;124m'\u001B[39m\u001B[38;5;124mdarwin\u001B[39m\u001B[38;5;124m'\u001B[39m:\n\u001B[1;32m    998\u001B[0m     \u001B[38;5;66;03m# Force Turtle window to the front on OS X. This is needed because\u001B[39;00m\n\u001B[1;32m    999\u001B[0m     \u001B[38;5;66;03m# the Turtle window will show behind the Terminal window when you\u001B[39;00m\n\u001B[1;32m   1000\u001B[0m     \u001B[38;5;66;03m# start the demo from the command line.\u001B[39;00m\n\u001B[1;32m   1001\u001B[0m     rootwindow \u001B[38;5;241m=\u001B[39m cv\u001B[38;5;241m.\u001B[39mwinfo_toplevel()\n",
      "File \u001B[0;32m/Library/Developer/CommandLineTools/Library/Frameworks/Python3.framework/Versions/3.9/lib/python3.9/turtle.py:1028\u001B[0m, in \u001B[0;36mTurtleScreen.clear\u001B[0;34m(self)\u001B[0m\n\u001B[1;32m   1026\u001B[0m \u001B[38;5;28mself\u001B[39m\u001B[38;5;241m.\u001B[39mbgcolor(\u001B[38;5;124m\"\u001B[39m\u001B[38;5;124mwhite\u001B[39m\u001B[38;5;124m\"\u001B[39m)\n\u001B[1;32m   1027\u001B[0m \u001B[38;5;28;01mfor\u001B[39;00m btn \u001B[38;5;129;01min\u001B[39;00m \u001B[38;5;241m1\u001B[39m, \u001B[38;5;241m2\u001B[39m, \u001B[38;5;241m3\u001B[39m:\n\u001B[0;32m-> 1028\u001B[0m     \u001B[38;5;28;43mself\u001B[39;49m\u001B[38;5;241;43m.\u001B[39;49m\u001B[43monclick\u001B[49m\u001B[43m(\u001B[49m\u001B[38;5;28;43;01mNone\u001B[39;49;00m\u001B[43m,\u001B[49m\u001B[43m \u001B[49m\u001B[43mbtn\u001B[49m\u001B[43m)\u001B[49m\n\u001B[1;32m   1029\u001B[0m \u001B[38;5;28mself\u001B[39m\u001B[38;5;241m.\u001B[39monkeypress(\u001B[38;5;28;01mNone\u001B[39;00m)\n\u001B[1;32m   1030\u001B[0m \u001B[38;5;28;01mfor\u001B[39;00m key \u001B[38;5;129;01min\u001B[39;00m \u001B[38;5;28mself\u001B[39m\u001B[38;5;241m.\u001B[39m_keys[:]:\n",
      "File \u001B[0;32m/Library/Developer/CommandLineTools/Library/Frameworks/Python3.framework/Versions/3.9/lib/python3.9/turtle.py:1365\u001B[0m, in \u001B[0;36mTurtleScreen.onclick\u001B[0;34m(self, fun, btn, add)\u001B[0m\n\u001B[1;32m   1350\u001B[0m \u001B[38;5;28;01mdef\u001B[39;00m \u001B[38;5;21monclick\u001B[39m(\u001B[38;5;28mself\u001B[39m, fun, btn\u001B[38;5;241m=\u001B[39m\u001B[38;5;241m1\u001B[39m, add\u001B[38;5;241m=\u001B[39m\u001B[38;5;28;01mNone\u001B[39;00m):\n\u001B[1;32m   1351\u001B[0m \u001B[38;5;250m    \u001B[39m\u001B[38;5;124;03m\"\"\"Bind fun to mouse-click event on canvas.\u001B[39;00m\n\u001B[1;32m   1352\u001B[0m \n\u001B[1;32m   1353\u001B[0m \u001B[38;5;124;03m    Arguments:\u001B[39;00m\n\u001B[0;32m   (...)\u001B[0m\n\u001B[1;32m   1363\u001B[0m \u001B[38;5;124;03m    >>> screen.onclick(None)\u001B[39;00m\n\u001B[1;32m   1364\u001B[0m \u001B[38;5;124;03m    \"\"\"\u001B[39;00m\n\u001B[0;32m-> 1365\u001B[0m     \u001B[38;5;28;43mself\u001B[39;49m\u001B[38;5;241;43m.\u001B[39;49m\u001B[43m_onscreenclick\u001B[49m\u001B[43m(\u001B[49m\u001B[43mfun\u001B[49m\u001B[43m,\u001B[49m\u001B[43m \u001B[49m\u001B[43mbtn\u001B[49m\u001B[43m,\u001B[49m\u001B[43m \u001B[49m\u001B[43madd\u001B[49m\u001B[43m)\u001B[49m\n",
      "File \u001B[0;32m/Library/Developer/CommandLineTools/Library/Frameworks/Python3.framework/Versions/3.9/lib/python3.9/turtle.py:669\u001B[0m, in \u001B[0;36mTurtleScreenBase._onscreenclick\u001B[0;34m(self, fun, num, add)\u001B[0m\n\u001B[1;32m    660\u001B[0m \u001B[38;5;250m\u001B[39m\u001B[38;5;124;03m\"\"\"Bind fun to mouse-click event on canvas.\u001B[39;00m\n\u001B[1;32m    661\u001B[0m \u001B[38;5;124;03mfun must be a function with two arguments, the coordinates\u001B[39;00m\n\u001B[1;32m    662\u001B[0m \u001B[38;5;124;03mof the clicked point on the canvas.\u001B[39;00m\n\u001B[0;32m   (...)\u001B[0m\n\u001B[1;32m    666\u001B[0m \u001B[38;5;124;03mthen _onscreensclick-event.\u001B[39;00m\n\u001B[1;32m    667\u001B[0m \u001B[38;5;124;03m\"\"\"\u001B[39;00m\n\u001B[1;32m    668\u001B[0m \u001B[38;5;28;01mif\u001B[39;00m fun \u001B[38;5;129;01mis\u001B[39;00m \u001B[38;5;28;01mNone\u001B[39;00m:\n\u001B[0;32m--> 669\u001B[0m     \u001B[38;5;28;43mself\u001B[39;49m\u001B[38;5;241;43m.\u001B[39;49m\u001B[43mcv\u001B[49m\u001B[38;5;241;43m.\u001B[39;49m\u001B[43munbind\u001B[49m\u001B[43m(\u001B[49m\u001B[38;5;124;43m\"\u001B[39;49m\u001B[38;5;124;43m<Button-\u001B[39;49m\u001B[38;5;132;43;01m%s\u001B[39;49;00m\u001B[38;5;124;43m>\u001B[39;49m\u001B[38;5;124;43m\"\u001B[39;49m\u001B[43m \u001B[49m\u001B[38;5;241;43m%\u001B[39;49m\u001B[43m \u001B[49m\u001B[43mnum\u001B[49m\u001B[43m)\u001B[49m\n\u001B[1;32m    670\u001B[0m \u001B[38;5;28;01melse\u001B[39;00m:\n\u001B[1;32m    671\u001B[0m     \u001B[38;5;28;01mdef\u001B[39;00m \u001B[38;5;21meventfun\u001B[39m(event):\n",
      "File \u001B[0;32m/Library/Developer/CommandLineTools/Library/Frameworks/Python3.framework/Versions/3.9/lib/python3.9/turtle.py:422\u001B[0m, in \u001B[0;36mScrolledCanvas.unbind\u001B[0;34m(self, *args, **kwargs)\u001B[0m\n\u001B[1;32m    419\u001B[0m \u001B[38;5;28;01mdef\u001B[39;00m \u001B[38;5;21munbind\u001B[39m(\u001B[38;5;28mself\u001B[39m, \u001B[38;5;241m*\u001B[39margs, \u001B[38;5;241m*\u001B[39m\u001B[38;5;241m*\u001B[39mkwargs):\n\u001B[1;32m    420\u001B[0m \u001B[38;5;250m    \u001B[39m\u001B[38;5;124;03m\"\"\" 'forward' method, which canvas itself has inherited...\u001B[39;00m\n\u001B[1;32m    421\u001B[0m \u001B[38;5;124;03m    \"\"\"\u001B[39;00m\n\u001B[0;32m--> 422\u001B[0m     \u001B[38;5;28;43mself\u001B[39;49m\u001B[38;5;241;43m.\u001B[39;49m\u001B[43m_canvas\u001B[49m\u001B[38;5;241;43m.\u001B[39;49m\u001B[43munbind\u001B[49m\u001B[43m(\u001B[49m\u001B[38;5;241;43m*\u001B[39;49m\u001B[43margs\u001B[49m\u001B[43m,\u001B[49m\u001B[43m \u001B[49m\u001B[38;5;241;43m*\u001B[39;49m\u001B[38;5;241;43m*\u001B[39;49m\u001B[43mkwargs\u001B[49m\u001B[43m)\u001B[49m\n",
      "File \u001B[0;32m/Library/Developer/CommandLineTools/Library/Frameworks/Python3.framework/Versions/3.9/lib/python3.9/tkinter/__init__.py:1397\u001B[0m, in \u001B[0;36mMisc.unbind\u001B[0;34m(self, sequence, funcid)\u001B[0m\n\u001B[1;32m   1394\u001B[0m \u001B[38;5;28;01mdef\u001B[39;00m \u001B[38;5;21munbind\u001B[39m(\u001B[38;5;28mself\u001B[39m, sequence, funcid\u001B[38;5;241m=\u001B[39m\u001B[38;5;28;01mNone\u001B[39;00m):\n\u001B[1;32m   1395\u001B[0m \u001B[38;5;250m    \u001B[39m\u001B[38;5;124;03m\"\"\"Unbind for this widget for event SEQUENCE  the\u001B[39;00m\n\u001B[1;32m   1396\u001B[0m \u001B[38;5;124;03m    function identified with FUNCID.\"\"\"\u001B[39;00m\n\u001B[0;32m-> 1397\u001B[0m     \u001B[38;5;28;43mself\u001B[39;49m\u001B[38;5;241;43m.\u001B[39;49m\u001B[43mtk\u001B[49m\u001B[38;5;241;43m.\u001B[39;49m\u001B[43mcall\u001B[49m\u001B[43m(\u001B[49m\u001B[38;5;124;43m'\u001B[39;49m\u001B[38;5;124;43mbind\u001B[39;49m\u001B[38;5;124;43m'\u001B[39;49m\u001B[43m,\u001B[49m\u001B[43m \u001B[49m\u001B[38;5;28;43mself\u001B[39;49m\u001B[38;5;241;43m.\u001B[39;49m\u001B[43m_w\u001B[49m\u001B[43m,\u001B[49m\u001B[43m \u001B[49m\u001B[43msequence\u001B[49m\u001B[43m,\u001B[49m\u001B[43m \u001B[49m\u001B[38;5;124;43m'\u001B[39;49m\u001B[38;5;124;43m'\u001B[39;49m\u001B[43m)\u001B[49m\n\u001B[1;32m   1398\u001B[0m     \u001B[38;5;28;01mif\u001B[39;00m funcid:\n\u001B[1;32m   1399\u001B[0m         \u001B[38;5;28mself\u001B[39m\u001B[38;5;241m.\u001B[39mdeletecommand(funcid)\n",
      "\u001B[0;31mTclError\u001B[0m: can't invoke \"bind\" command:  application has been destroyed"
     ]
    }
   ],
   "execution_count": 2
  }
 ],
 "metadata": {
  "kernelspec": {
   "display_name": "Python 3 (ipykernel)",
   "language": "python",
   "name": "python3"
  },
  "language_info": {
   "codemirror_mode": {
    "name": "ipython",
    "version": 3
   },
   "file_extension": ".py",
   "mimetype": "text/x-python",
   "name": "python",
   "nbconvert_exporter": "python",
   "pygments_lexer": "ipython3",
   "version": "3.10.10"
  }
 },
 "nbformat": 4,
 "nbformat_minor": 5
}
